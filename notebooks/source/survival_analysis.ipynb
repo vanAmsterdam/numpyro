{
 "cells": [
  {
   "cell_type": "code",
   "execution_count": 1,
   "id": "77c9d36c",
   "metadata": {},
   "outputs": [],
   "source": [
    "# Handling survival analysis or right-censored data in Numpyro\n",
    "\n",
    "import jax.numpy as jnp\n",
    "\n",
    "from numpyro.distributions import RightCensoredDistribution, Weibull"
   ]
  },
  {
   "cell_type": "code",
   "execution_count": 6,
   "id": "e98170ef",
   "metadata": {},
   "outputs": [],
   "source": [
    "wb = Weibull(1.0, 2.0)"
   ]
  },
  {
   "cell_type": "code",
   "execution_count": 7,
   "id": "a86605a8",
   "metadata": {},
   "outputs": [],
   "source": [
    "times = jnp.array([0.5, 1.0, 1.5, 2.0])\n",
    "events = jnp.array([1, 1, 0, 0])  # 1 if event observed, 0 if censored"
   ]
  },
  {
   "cell_type": "code",
   "execution_count": 8,
   "id": "ee1e2ce3",
   "metadata": {},
   "outputs": [
    {
     "name": "stdout",
     "output_type": "stream",
     "text": [
      "[-0.25       -0.30685282 -1.1513877  -2.6137056 ]\n",
      "[-0.25      -1.        -2.2499998 -4.0000014]\n"
     ]
    }
   ],
   "source": [
    "print(wb.log_prob(times))\n",
    "print(jnp.log1p(-wb.cdf(times)))"
   ]
  },
  {
   "cell_type": "code",
   "execution_count": 9,
   "id": "23bb737c",
   "metadata": {},
   "outputs": [
    {
     "name": "stdout",
     "output_type": "stream",
     "text": [
      "adding events\n",
      "adding non-events\n",
      "[-0.25       -0.30685282 -2.2499998  -4.0000014 ]\n"
     ]
    }
   ],
   "source": [
    "wbc = RightCensoredDistribution(wb, event=events)\n",
    "print(wbc.log_prob(times))"
   ]
  },
  {
   "cell_type": "code",
   "execution_count": null,
   "id": "07e2a636",
   "metadata": {},
   "outputs": [],
   "source": []
  }
 ],
 "metadata": {
  "kernelspec": {
   "display_name": "numpyro (3.12.9)",
   "language": "python",
   "name": "python3"
  },
  "language_info": {
   "codemirror_mode": {
    "name": "ipython",
    "version": 3
   },
   "file_extension": ".py",
   "mimetype": "text/x-python",
   "name": "python",
   "nbconvert_exporter": "python",
   "pygments_lexer": "ipython3",
   "version": "3.12.9"
  }
 },
 "nbformat": 4,
 "nbformat_minor": 5
}
